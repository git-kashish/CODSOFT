{
 "cells": [
  {
   "cell_type": "code",
   "execution_count": null,
   "id": "945905b4",
   "metadata": {},
   "outputs": [],
   "source": [
    "#Import Libraries & Setting Configurations"
   ]
  },
  {
   "cell_type": "code",
   "execution_count": 3,
   "id": "bb2eae3b",
   "metadata": {},
   "outputs": [],
   "source": [
    "import numpy as np\n",
    "import pandas as pd \n",
    "import seaborn as sns\n",
    "\n",
    "from matplotlib import pyplot as plt\n",
    "from matplotlib.pyplot import figure\n",
    "\n",
    "import math as mt\n",
    "# import missingno as msno\n",
    "from sklearn.metrics import accuracy_score, confusion_matrix, precision_score, recall_score, f1_score,roc_auc_score, roc_curve\n",
    "from sklearn.model_selection import train_test_split, cross_val_score\n",
    "from sklearn.neighbors import LocalOutlierFactor\n",
    "from sklearn.preprocessing import MinMaxScaler, LabelEncoder, StandardScaler, RobustScaler\n",
    "\n",
    "from sklearn.linear_model import LogisticRegression\n",
    "\n",
    "\n",
    "import warnings\n",
    "warnings.filterwarnings(\"ignore\")\n",
    "warnings.simplefilter(action='ignore', category=FutureWarning)\n",
    "\n",
    "\n",
    "pd.set_option('display.max_columns', None)\n",
    "pd.set_option('display.float_format', lambda x: '%.3f' % x)"
   ]
  },
  {
   "cell_type": "code",
   "execution_count": null,
   "id": "0b629cd9",
   "metadata": {},
   "outputs": [],
   "source": [
    "#Import Data"
   ]
  },
  {
   "cell_type": "code",
   "execution_count": 5,
   "id": "7e788317",
   "metadata": {},
   "outputs": [
    {
     "data": {
      "text/html": [
       "<div>\n",
       "<style scoped>\n",
       "    .dataframe tbody tr th:only-of-type {\n",
       "        vertical-align: middle;\n",
       "    }\n",
       "\n",
       "    .dataframe tbody tr th {\n",
       "        vertical-align: top;\n",
       "    }\n",
       "\n",
       "    .dataframe thead th {\n",
       "        text-align: right;\n",
       "    }\n",
       "</style>\n",
       "<table border=\"1\" class=\"dataframe\">\n",
       "  <thead>\n",
       "    <tr style=\"text-align: right;\">\n",
       "      <th></th>\n",
       "      <th>PassengerId</th>\n",
       "      <th>Survived</th>\n",
       "      <th>Pclass</th>\n",
       "      <th>Name</th>\n",
       "      <th>Sex</th>\n",
       "      <th>Age</th>\n",
       "      <th>SibSp</th>\n",
       "      <th>Parch</th>\n",
       "      <th>Ticket</th>\n",
       "      <th>Fare</th>\n",
       "      <th>Cabin</th>\n",
       "      <th>Embarked</th>\n",
       "    </tr>\n",
       "  </thead>\n",
       "  <tbody>\n",
       "    <tr>\n",
       "      <th>0</th>\n",
       "      <td>892</td>\n",
       "      <td>0</td>\n",
       "      <td>3</td>\n",
       "      <td>Kelly, Mr. James</td>\n",
       "      <td>male</td>\n",
       "      <td>34.500</td>\n",
       "      <td>0</td>\n",
       "      <td>0</td>\n",
       "      <td>330911</td>\n",
       "      <td>7.829</td>\n",
       "      <td>NaN</td>\n",
       "      <td>Q</td>\n",
       "    </tr>\n",
       "    <tr>\n",
       "      <th>1</th>\n",
       "      <td>893</td>\n",
       "      <td>1</td>\n",
       "      <td>3</td>\n",
       "      <td>Wilkes, Mrs. James (Ellen Needs)</td>\n",
       "      <td>female</td>\n",
       "      <td>47.000</td>\n",
       "      <td>1</td>\n",
       "      <td>0</td>\n",
       "      <td>363272</td>\n",
       "      <td>7.000</td>\n",
       "      <td>NaN</td>\n",
       "      <td>S</td>\n",
       "    </tr>\n",
       "    <tr>\n",
       "      <th>2</th>\n",
       "      <td>894</td>\n",
       "      <td>0</td>\n",
       "      <td>2</td>\n",
       "      <td>Myles, Mr. Thomas Francis</td>\n",
       "      <td>male</td>\n",
       "      <td>62.000</td>\n",
       "      <td>0</td>\n",
       "      <td>0</td>\n",
       "      <td>240276</td>\n",
       "      <td>9.688</td>\n",
       "      <td>NaN</td>\n",
       "      <td>Q</td>\n",
       "    </tr>\n",
       "    <tr>\n",
       "      <th>3</th>\n",
       "      <td>895</td>\n",
       "      <td>0</td>\n",
       "      <td>3</td>\n",
       "      <td>Wirz, Mr. Albert</td>\n",
       "      <td>male</td>\n",
       "      <td>27.000</td>\n",
       "      <td>0</td>\n",
       "      <td>0</td>\n",
       "      <td>315154</td>\n",
       "      <td>8.662</td>\n",
       "      <td>NaN</td>\n",
       "      <td>S</td>\n",
       "    </tr>\n",
       "    <tr>\n",
       "      <th>4</th>\n",
       "      <td>896</td>\n",
       "      <td>1</td>\n",
       "      <td>3</td>\n",
       "      <td>Hirvonen, Mrs. Alexander (Helga E Lindqvist)</td>\n",
       "      <td>female</td>\n",
       "      <td>22.000</td>\n",
       "      <td>1</td>\n",
       "      <td>1</td>\n",
       "      <td>3101298</td>\n",
       "      <td>12.287</td>\n",
       "      <td>NaN</td>\n",
       "      <td>S</td>\n",
       "    </tr>\n",
       "  </tbody>\n",
       "</table>\n",
       "</div>"
      ],
      "text/plain": [
       "   PassengerId  Survived  Pclass  \\\n",
       "0          892         0       3   \n",
       "1          893         1       3   \n",
       "2          894         0       2   \n",
       "3          895         0       3   \n",
       "4          896         1       3   \n",
       "\n",
       "                                           Name     Sex    Age  SibSp  Parch  \\\n",
       "0                              Kelly, Mr. James    male 34.500      0      0   \n",
       "1              Wilkes, Mrs. James (Ellen Needs)  female 47.000      1      0   \n",
       "2                     Myles, Mr. Thomas Francis    male 62.000      0      0   \n",
       "3                              Wirz, Mr. Albert    male 27.000      0      0   \n",
       "4  Hirvonen, Mrs. Alexander (Helga E Lindqvist)  female 22.000      1      1   \n",
       "\n",
       "    Ticket   Fare Cabin Embarked  \n",
       "0   330911  7.829   NaN        Q  \n",
       "1   363272  7.000   NaN        S  \n",
       "2   240276  9.688   NaN        Q  \n",
       "3   315154  8.662   NaN        S  \n",
       "4  3101298 12.287   NaN        S  "
      ]
     },
     "execution_count": 5,
     "metadata": {},
     "output_type": "execute_result"
    }
   ],
   "source": [
    "titanic_ = pd.read_csv('tested.csv')\n",
    "titanic_df = titanic_.copy()\n",
    "titanic_df.head()"
   ]
  },
  {
   "cell_type": "code",
   "execution_count": 6,
   "id": "03886152",
   "metadata": {},
   "outputs": [],
   "source": [
    "#Exploratory Data Analysis"
   ]
  },
  {
   "cell_type": "code",
   "execution_count": 7,
   "id": "bc7a0a47",
   "metadata": {},
   "outputs": [],
   "source": [
    "def upper_col_name(dataframe):\n",
    "    upper_cols = [col.upper() for col in dataframe.columns]\n",
    "    dataframe.columns = upper_cols\n",
    "    return dataframe.head()"
   ]
  },
  {
   "cell_type": "code",
   "execution_count": 8,
   "id": "554fe2db",
   "metadata": {},
   "outputs": [
    {
     "data": {
      "text/html": [
       "<div>\n",
       "<style scoped>\n",
       "    .dataframe tbody tr th:only-of-type {\n",
       "        vertical-align: middle;\n",
       "    }\n",
       "\n",
       "    .dataframe tbody tr th {\n",
       "        vertical-align: top;\n",
       "    }\n",
       "\n",
       "    .dataframe thead th {\n",
       "        text-align: right;\n",
       "    }\n",
       "</style>\n",
       "<table border=\"1\" class=\"dataframe\">\n",
       "  <thead>\n",
       "    <tr style=\"text-align: right;\">\n",
       "      <th></th>\n",
       "      <th>PASSENGERID</th>\n",
       "      <th>SURVIVED</th>\n",
       "      <th>PCLASS</th>\n",
       "      <th>NAME</th>\n",
       "      <th>SEX</th>\n",
       "      <th>AGE</th>\n",
       "      <th>SIBSP</th>\n",
       "      <th>PARCH</th>\n",
       "      <th>TICKET</th>\n",
       "      <th>FARE</th>\n",
       "      <th>CABIN</th>\n",
       "      <th>EMBARKED</th>\n",
       "    </tr>\n",
       "  </thead>\n",
       "  <tbody>\n",
       "    <tr>\n",
       "      <th>0</th>\n",
       "      <td>892</td>\n",
       "      <td>0</td>\n",
       "      <td>3</td>\n",
       "      <td>Kelly, Mr. James</td>\n",
       "      <td>male</td>\n",
       "      <td>34.500</td>\n",
       "      <td>0</td>\n",
       "      <td>0</td>\n",
       "      <td>330911</td>\n",
       "      <td>7.829</td>\n",
       "      <td>NaN</td>\n",
       "      <td>Q</td>\n",
       "    </tr>\n",
       "    <tr>\n",
       "      <th>1</th>\n",
       "      <td>893</td>\n",
       "      <td>1</td>\n",
       "      <td>3</td>\n",
       "      <td>Wilkes, Mrs. James (Ellen Needs)</td>\n",
       "      <td>female</td>\n",
       "      <td>47.000</td>\n",
       "      <td>1</td>\n",
       "      <td>0</td>\n",
       "      <td>363272</td>\n",
       "      <td>7.000</td>\n",
       "      <td>NaN</td>\n",
       "      <td>S</td>\n",
       "    </tr>\n",
       "    <tr>\n",
       "      <th>2</th>\n",
       "      <td>894</td>\n",
       "      <td>0</td>\n",
       "      <td>2</td>\n",
       "      <td>Myles, Mr. Thomas Francis</td>\n",
       "      <td>male</td>\n",
       "      <td>62.000</td>\n",
       "      <td>0</td>\n",
       "      <td>0</td>\n",
       "      <td>240276</td>\n",
       "      <td>9.688</td>\n",
       "      <td>NaN</td>\n",
       "      <td>Q</td>\n",
       "    </tr>\n",
       "    <tr>\n",
       "      <th>3</th>\n",
       "      <td>895</td>\n",
       "      <td>0</td>\n",
       "      <td>3</td>\n",
       "      <td>Wirz, Mr. Albert</td>\n",
       "      <td>male</td>\n",
       "      <td>27.000</td>\n",
       "      <td>0</td>\n",
       "      <td>0</td>\n",
       "      <td>315154</td>\n",
       "      <td>8.662</td>\n",
       "      <td>NaN</td>\n",
       "      <td>S</td>\n",
       "    </tr>\n",
       "    <tr>\n",
       "      <th>4</th>\n",
       "      <td>896</td>\n",
       "      <td>1</td>\n",
       "      <td>3</td>\n",
       "      <td>Hirvonen, Mrs. Alexander (Helga E Lindqvist)</td>\n",
       "      <td>female</td>\n",
       "      <td>22.000</td>\n",
       "      <td>1</td>\n",
       "      <td>1</td>\n",
       "      <td>3101298</td>\n",
       "      <td>12.287</td>\n",
       "      <td>NaN</td>\n",
       "      <td>S</td>\n",
       "    </tr>\n",
       "  </tbody>\n",
       "</table>\n",
       "</div>"
      ],
      "text/plain": [
       "   PASSENGERID  SURVIVED  PCLASS  \\\n",
       "0          892         0       3   \n",
       "1          893         1       3   \n",
       "2          894         0       2   \n",
       "3          895         0       3   \n",
       "4          896         1       3   \n",
       "\n",
       "                                           NAME     SEX    AGE  SIBSP  PARCH  \\\n",
       "0                              Kelly, Mr. James    male 34.500      0      0   \n",
       "1              Wilkes, Mrs. James (Ellen Needs)  female 47.000      1      0   \n",
       "2                     Myles, Mr. Thomas Francis    male 62.000      0      0   \n",
       "3                              Wirz, Mr. Albert    male 27.000      0      0   \n",
       "4  Hirvonen, Mrs. Alexander (Helga E Lindqvist)  female 22.000      1      1   \n",
       "\n",
       "    TICKET   FARE CABIN EMBARKED  \n",
       "0   330911  7.829   NaN        Q  \n",
       "1   363272  7.000   NaN        S  \n",
       "2   240276  9.688   NaN        Q  \n",
       "3   315154  8.662   NaN        S  \n",
       "4  3101298 12.287   NaN        S  "
      ]
     },
     "execution_count": 8,
     "metadata": {},
     "output_type": "execute_result"
    }
   ],
   "source": [
    "upper_col_name(titanic_df)"
   ]
  },
  {
   "cell_type": "code",
   "execution_count": 9,
   "id": "2fd0ba42",
   "metadata": {},
   "outputs": [
    {
     "name": "stdout",
     "output_type": "stream",
     "text": [
      "<class 'pandas.core.frame.DataFrame'>\n",
      "RangeIndex: 418 entries, 0 to 417\n",
      "Data columns (total 12 columns):\n",
      " #   Column       Non-Null Count  Dtype  \n",
      "---  ------       --------------  -----  \n",
      " 0   PASSENGERID  418 non-null    int64  \n",
      " 1   SURVIVED     418 non-null    int64  \n",
      " 2   PCLASS       418 non-null    int64  \n",
      " 3   NAME         418 non-null    object \n",
      " 4   SEX          418 non-null    object \n",
      " 5   AGE          332 non-null    float64\n",
      " 6   SIBSP        418 non-null    int64  \n",
      " 7   PARCH        418 non-null    int64  \n",
      " 8   TICKET       418 non-null    object \n",
      " 9   FARE         417 non-null    float64\n",
      " 10  CABIN        91 non-null     object \n",
      " 11  EMBARKED     418 non-null    object \n",
      "dtypes: float64(2), int64(5), object(5)\n",
      "memory usage: 39.3+ KB\n"
     ]
    }
   ],
   "source": [
    "titanic_df.info()"
   ]
  },
  {
   "cell_type": "code",
   "execution_count": 10,
   "id": "89a366da",
   "metadata": {},
   "outputs": [
    {
     "data": {
      "text/html": [
       "<div>\n",
       "<style scoped>\n",
       "    .dataframe tbody tr th:only-of-type {\n",
       "        vertical-align: middle;\n",
       "    }\n",
       "\n",
       "    .dataframe tbody tr th {\n",
       "        vertical-align: top;\n",
       "    }\n",
       "\n",
       "    .dataframe thead th {\n",
       "        text-align: right;\n",
       "    }\n",
       "</style>\n",
       "<table border=\"1\" class=\"dataframe\">\n",
       "  <thead>\n",
       "    <tr style=\"text-align: right;\">\n",
       "      <th></th>\n",
       "      <th>count</th>\n",
       "      <th>mean</th>\n",
       "      <th>std</th>\n",
       "      <th>min</th>\n",
       "      <th>25%</th>\n",
       "      <th>50%</th>\n",
       "      <th>75%</th>\n",
       "      <th>max</th>\n",
       "    </tr>\n",
       "  </thead>\n",
       "  <tbody>\n",
       "    <tr>\n",
       "      <th>PASSENGERID</th>\n",
       "      <td>418.000</td>\n",
       "      <td>1100.500</td>\n",
       "      <td>120.810</td>\n",
       "      <td>892.000</td>\n",
       "      <td>996.250</td>\n",
       "      <td>1100.500</td>\n",
       "      <td>1204.750</td>\n",
       "      <td>1309.000</td>\n",
       "    </tr>\n",
       "    <tr>\n",
       "      <th>SURVIVED</th>\n",
       "      <td>418.000</td>\n",
       "      <td>0.364</td>\n",
       "      <td>0.482</td>\n",
       "      <td>0.000</td>\n",
       "      <td>0.000</td>\n",
       "      <td>0.000</td>\n",
       "      <td>1.000</td>\n",
       "      <td>1.000</td>\n",
       "    </tr>\n",
       "    <tr>\n",
       "      <th>PCLASS</th>\n",
       "      <td>418.000</td>\n",
       "      <td>2.266</td>\n",
       "      <td>0.842</td>\n",
       "      <td>1.000</td>\n",
       "      <td>1.000</td>\n",
       "      <td>3.000</td>\n",
       "      <td>3.000</td>\n",
       "      <td>3.000</td>\n",
       "    </tr>\n",
       "    <tr>\n",
       "      <th>AGE</th>\n",
       "      <td>332.000</td>\n",
       "      <td>30.273</td>\n",
       "      <td>14.181</td>\n",
       "      <td>0.170</td>\n",
       "      <td>21.000</td>\n",
       "      <td>27.000</td>\n",
       "      <td>39.000</td>\n",
       "      <td>76.000</td>\n",
       "    </tr>\n",
       "    <tr>\n",
       "      <th>SIBSP</th>\n",
       "      <td>418.000</td>\n",
       "      <td>0.447</td>\n",
       "      <td>0.897</td>\n",
       "      <td>0.000</td>\n",
       "      <td>0.000</td>\n",
       "      <td>0.000</td>\n",
       "      <td>1.000</td>\n",
       "      <td>8.000</td>\n",
       "    </tr>\n",
       "    <tr>\n",
       "      <th>PARCH</th>\n",
       "      <td>418.000</td>\n",
       "      <td>0.392</td>\n",
       "      <td>0.981</td>\n",
       "      <td>0.000</td>\n",
       "      <td>0.000</td>\n",
       "      <td>0.000</td>\n",
       "      <td>0.000</td>\n",
       "      <td>9.000</td>\n",
       "    </tr>\n",
       "    <tr>\n",
       "      <th>FARE</th>\n",
       "      <td>417.000</td>\n",
       "      <td>35.627</td>\n",
       "      <td>55.908</td>\n",
       "      <td>0.000</td>\n",
       "      <td>7.896</td>\n",
       "      <td>14.454</td>\n",
       "      <td>31.500</td>\n",
       "      <td>512.329</td>\n",
       "    </tr>\n",
       "  </tbody>\n",
       "</table>\n",
       "</div>"
      ],
      "text/plain": [
       "              count     mean     std     min     25%      50%      75%  \\\n",
       "PASSENGERID 418.000 1100.500 120.810 892.000 996.250 1100.500 1204.750   \n",
       "SURVIVED    418.000    0.364   0.482   0.000   0.000    0.000    1.000   \n",
       "PCLASS      418.000    2.266   0.842   1.000   1.000    3.000    3.000   \n",
       "AGE         332.000   30.273  14.181   0.170  21.000   27.000   39.000   \n",
       "SIBSP       418.000    0.447   0.897   0.000   0.000    0.000    1.000   \n",
       "PARCH       418.000    0.392   0.981   0.000   0.000    0.000    0.000   \n",
       "FARE        417.000   35.627  55.908   0.000   7.896   14.454   31.500   \n",
       "\n",
       "                 max  \n",
       "PASSENGERID 1309.000  \n",
       "SURVIVED       1.000  \n",
       "PCLASS         3.000  \n",
       "AGE           76.000  \n",
       "SIBSP          8.000  \n",
       "PARCH          9.000  \n",
       "FARE         512.329  "
      ]
     },
     "execution_count": 10,
     "metadata": {},
     "output_type": "execute_result"
    }
   ],
   "source": [
    "titanic_df.describe().T"
   ]
  },
  {
   "cell_type": "code",
   "execution_count": 12,
   "id": "946ebaaf",
   "metadata": {},
   "outputs": [],
   "source": [
    "#Selection of Categorical and Numerical Variables:\n",
    "\n",
    "def grab_col_names(dataframe, cat_th=5, car_th=20):\n",
    "    cat_cols = [col for col in dataframe.columns if dataframe[col].dtypes == \"O\"]\n",
    "    num_but_cat = [col for col in dataframe.columns if dataframe[col].dtypes != \"O\" and\n",
    "                   dataframe[col].nunique() < cat_th]\n",
    "\n",
    "    cat_but_car = [col for col in dataframe.columns if dataframe[col].dtypes == \"O\" and\n",
    "                   dataframe[col].nunique() > car_th]\n",
    "\n",
    "    cat_cols = cat_cols + num_but_cat\n",
    "    cat_cols = [col for col in cat_cols if col not in cat_but_car]\n",
    "\n",
    "    # num_cols\n",
    "    num_cols = [col for col in dataframe.columns if dataframe[col].dtypes != \"O\" and \"ID\" not in col.upper()]\n",
    "    num_cols = [col for col in num_cols if col not in num_but_cat]\n",
    "\n",
    "    return cat_cols,num_cols,cat_but_car"
   ]
  },
  {
   "cell_type": "code",
   "execution_count": 13,
   "id": "236d0d74",
   "metadata": {},
   "outputs": [
    {
     "data": {
      "text/plain": [
       "(['SEX', 'EMBARKED', 'SURVIVED', 'PCLASS'],\n",
       " ['AGE', 'SIBSP', 'PARCH', 'FARE'],\n",
       " ['NAME', 'TICKET', 'CABIN'])"
      ]
     },
     "execution_count": 13,
     "metadata": {},
     "output_type": "execute_result"
    }
   ],
   "source": [
    "grab_col_names(titanic_df)\n"
   ]
  },
  {
   "cell_type": "code",
   "execution_count": 14,
   "id": "f9b08ee2",
   "metadata": {},
   "outputs": [],
   "source": [
    "cat_cols, num_cols, cat_but_car = grab_col_names(titanic_df)\n"
   ]
  },
  {
   "cell_type": "code",
   "execution_count": 15,
   "id": "b439e8a0",
   "metadata": {},
   "outputs": [],
   "source": [
    "# General Exploration for Categorical Variables:\n",
    "\n",
    "def cat_summary(dataframe, plot=False):\n",
    "    for col_name in cat_cols:\n",
    "        print(\"############## Unique Observations of Categorical Data ###############\")\n",
    "        print(\"The unique number of \"+ col_name+\": \"+ str(dataframe[col_name].nunique()))\n",
    "\n",
    "        print(\"############## Frequency of Categorical Data ########################\")\n",
    "        print(pd.DataFrame({col_name : dataframe[col_name].value_counts(),\n",
    "                            \"Ratio\": dataframe[col_name].value_counts()/len(dataframe)}))\n",
    "        if plot == True:\n",
    "            rgb_values = sns.color_palette(\"Set2\", 6)\n",
    "            sns.set_theme(style=\"darkgrid\")\n",
    "            ax = sns.countplot(x=dataframe[col_name], data=dataframe, palette=rgb_values)\n",
    "            for p in ax.patches:\n",
    "                ax.annotate(f'\\n{p.get_height()}', (p.get_x()+0.2, p.get_height()), ha='center', va='top', color='white', size=10)\n",
    "            plt.show()"
   ]
  },
  {
   "cell_type": "code",
   "execution_count": 16,
   "id": "0fc33236",
   "metadata": {},
   "outputs": [
    {
     "name": "stdout",
     "output_type": "stream",
     "text": [
      "############## Unique Observations of Categorical Data ###############\n",
      "The unique number of SEX: 2\n",
      "############## Frequency of Categorical Data ########################\n",
      "        SEX  Ratio\n",
      "male    266  0.636\n",
      "female  152  0.364\n"
     ]
    },
    {
     "data": {
      "image/png": "[encoded data removed]",
      "text/plain": [
       "<Figure size 432x288 with 1 Axes>"
      ]
     },
     "metadata": {},
     "output_type": "display_data"
    },
    {
     "name": "stdout",
     "output_type": "stream",
     "text": [
      "############## Unique Observations of Categorical Data ###############\n",
      "The unique number of EMBARKED: 3\n",
      "############## Frequency of Categorical Data ########################\n",
      "   EMBARKED  Ratio\n",
      "S       270  0.646\n",
      "C       102  0.244\n",
      "Q        46  0.110\n"
     ]
    },
    {
     "data": {
      "image/png": "[encoded data removed]",
      "text/plain": [
       "<Figure size 432x288 with 1 Axes>"
      ]
     },
     "metadata": {},
     "output_type": "display_data"
    },
    {
     "name": "stdout",
     "output_type": "stream",
     "text": [
      "############## Unique Observations of Categorical Data ###############\n",
      "The unique number of SURVIVED: 2\n",
      "############## Frequency of Categorical Data ########################\n",
      "   SURVIVED  Ratio\n",
      "0       266  0.636\n",
      "1       152  0.364\n"
     ]
    },
    {
     "data": {
      "image/png": "[encoded data removed]",
      "text/plain": [
       "<Figure size 432x288 with 1 Axes>"
      ]
     },
     "metadata": {},
     "output_type": "display_data"
    },
    {
     "name": "stdout",
     "output_type": "stream",
     "text": [
      "############## Unique Observations of Categorical Data ###############\n",
      "The unique number of PCLASS: 3\n",
      "############## Frequency of Categorical Data ########################\n",
      "   PCLASS  Ratio\n",
      "3     218  0.522\n",
      "1     107  0.256\n",
      "2      93  0.222\n"
     ]
    },
    {
     "data": {
      "image/png": "[encoded data removed]",
      "text/plain": [
       "<Figure size 432x288 with 1 Axes>"
      ]
     },
     "metadata": {},
     "output_type": "display_data"
    }
   ],
   "source": [
    "cat_summary(titanic_df, plot=True)"
   ]
  },
  {
   "cell_type": "code",
   "execution_count": 17,
   "id": "abeac498",
   "metadata": {},
   "outputs": [],
   "source": [
    "# General Exploration for Numerical Variables:\n",
    "\n",
    "def num_summary(dataframe,  plot=False):\n",
    "    quantiles = [0.25, 0.50, 0.75, 1]\n",
    "    for col_name in num_cols:\n",
    "        print(\"########## Summary Statistics of \" +  col_name + \" ############\")\n",
    "        print(dataframe[col_name].describe(quantiles).T)\n",
    "\n",
    "        if plot:\n",
    "            sns.histplot(data=dataframe, x=col_name  )\n",
    "            plt.xlabel(col_name)\n",
    "            plt.title(\"The distribution of \"+ col_name)\n",
    "            plt.grid(True)\n",
    "            plt.show(block=True)\n"
   ]
  },
  {
   "cell_type": "code",
   "execution_count": 18,
   "id": "7b12a597",
   "metadata": {},
   "outputs": [
    {
     "name": "stdout",
     "output_type": "stream",
     "text": [
      "########## Summary Statistics of AGE ############\n",
      "count   332.000\n",
      "mean     30.273\n",
      "std      14.181\n",
      "min       0.170\n",
      "25%      21.000\n",
      "50%      27.000\n",
      "75%      39.000\n",
      "100%     76.000\n",
      "max      76.000\n",
      "Name: AGE, dtype: float64\n"
     ]
    },
    {
     "data": {
      "image/png": "[encoded data removed]",
      "text/plain": [
       "<Figure size 432x288 with 1 Axes>"
      ]
     },
     "metadata": {},
     "output_type": "display_data"
    },
    {
     "name": "stdout",
     "output_type": "stream",
     "text": [
      "########## Summary Statistics of SIBSP ############\n",
      "count   418.000\n",
      "mean      0.447\n",
      "std       0.897\n",
      "min       0.000\n",
      "25%       0.000\n",
      "50%       0.000\n",
      "75%       1.000\n",
      "100%      8.000\n",
      "max       8.000\n",
      "Name: SIBSP, dtype: float64\n"
     ]
    },
    {
     "data": {
      "image/png": "[encoded data removed]",
      "text/plain": [
       "<Figure size 432x288 with 1 Axes>"
      ]
     },
     "metadata": {},
     "output_type": "display_data"
    },
    {
     "name": "stdout",
     "output_type": "stream",
     "text": [
      "########## Summary Statistics of PARCH ############\n",
      "count   418.000\n",
      "mean      0.392\n",
      "std       0.981\n",
      "min       0.000\n",
      "25%       0.000\n",
      "50%       0.000\n",
      "75%       0.000\n",
      "100%      9.000\n",
      "max       9.000\n",
      "Name: PARCH, dtype: float64\n"
     ]
    },
    {
     "data": {
      "image/png": "[encoded data removed]",
      "text/plain": [
       "<Figure size 432x288 with 1 Axes>"
      ]
     },
     "metadata": {},
     "output_type": "display_data"
    },
    {
     "name": "stdout",
     "output_type": "stream",
     "text": [
      "########## Summary Statistics of FARE ############\n",
      "count   417.000\n",
      "mean     35.627\n",
      "std      55.908\n",
      "min       0.000\n",
      "25%       7.896\n",
      "50%      14.454\n",
      "75%      31.500\n",
      "100%    512.329\n",
      "max     512.329\n",
      "Name: FARE, dtype: float64\n"
     ]
    },
    {
     "data": {
      "image/png": "[encoded data removed]",
      "text/plain": [
       "<Figure size 432x288 with 1 Axes>"
      ]
     },
     "metadata": {},
     "output_type": "display_data"
    }
   ],
   "source": [
    "num_summary(titanic_df, plot=True)"
   ]
  },
  {
   "cell_type": "code",
   "execution_count": 19,
   "id": "803dfd56",
   "metadata": {},
   "outputs": [],
   "source": [
    "#DATA PREPROCESSING & FEATURE ENGINEERING"
   ]
  },
  {
   "cell_type": "code",
   "execution_count": 20,
   "id": "0f079af1",
   "metadata": {},
   "outputs": [],
   "source": [
    "# Only passengers have cabin numbers, so \"Deck\" feature can be extracted by using Cabin feature:  \n",
    "titanic_df[\"NEW_DECK\"] = titanic_df[\"CABIN\"].notnull().astype('int')\n",
    "\n",
    "# Name word count\n",
    "titanic_df[\"NEW_NAME_WORD_COUNT\"] = titanic_df[\"NAME\"].apply(lambda x: len(str(x).split(\" \")))\n",
    "\n",
    "# Name that includes \"Dr\"\n",
    "titanic_df[\"NEW_NAME_DR\"] = titanic_df[\"NAME\"].apply(lambda x: len([x for x in x.split() if x.startswith(\"Dr. \")]))\n",
    "\n",
    "# Family size:\n",
    "titanic_df[\"NEW_FAMILY_SIZE\"] = titanic_df[\"SIBSP\"] + titanic_df[\"PARCH\"] + 1\n",
    "\n",
    "# Fare per passenger:\n",
    "titanic_df['NEW_FARE_PER_PERSON'] = titanic_df['FARE'] / (titanic_df['NEW_FAMILY_SIZE'])\n",
    "\n",
    "# Title:\n",
    "titanic_df['NEW_TITLE'] = titanic_df.NAME.str.extract(' ([A-Za-z]+)\\.', expand=False)\n",
    "\n",
    "# Ticket:\n",
    "titanic_df['NEW_TICKET'] = titanic_df['TICKET'].str.isalnum().astype('int')\n",
    "\n",
    "# Age & Pclass\n",
    "titanic_df[\"NEW_AGE_PCLASS\"] = titanic_df[\"AGE\"] * titanic_df[\"PCLASS\"]\n",
    "\n",
    "# Is Alone?\n",
    "titanic_df[\"NEW_IS_ALONE\"] = np.where(titanic_df['SIBSP'] + titanic_df['PARCH'] > 0, \"NO\", \"YES\") \n",
    "    \n",
    "# Age Level \n",
    "titanic_df.loc[(titanic_df['AGE'] < 18), 'NEW_AGE_CAT'] = 'Young'\n",
    "titanic_df.loc[(titanic_df['AGE'] >= 18) & (titanic_df['AGE'] < 56), 'NEW_AGE_CAT'] = 'Mature'\n",
    "titanic_df.loc[(titanic_df['AGE'] >= 56), 'NEW_AGE_CAT'] = 'Senior'\n",
    "\n",
    " # Age & Sex\n",
    "titanic_df.loc[(titanic_df['SEX'] == 'male') & (titanic_df['AGE'] <= 21), 'NEW_SEX_CAT'] = 'Young_Male'\n",
    "titanic_df.loc[(titanic_df['SEX'] == 'male') & ((titanic_df['AGE'] > 21) & (titanic_df['AGE']) < 50), 'NEW_SEX_CAT'] = 'Mature_Male'\n",
    "titanic_df.loc[(titanic_df['SEX'] == 'male') & (titanic_df['AGE'] > 50), 'NEW_SEX_CAT'] = 'Senior_Male'\n",
    "titanic_df.loc[(titanic_df['SEX'] == 'female') & (titanic_df['AGE'] <= 21), 'NEW_SEX_CAT'] = 'Young_Female'\n",
    "titanic_df.loc[(titanic_df['SEX'] == 'female') & ((titanic_df['AGE'] > 21) & (titanic_df['AGE']) < 50), 'NEW_SEX_CAT'] = 'Mature_Female'\n",
    "titanic_df.loc[(titanic_df['SEX'] == 'female') & (titanic_df['AGE'] > 50), 'NEW_SEX_CAT'] = 'Senior_Female'"
   ]
  },
  {
   "cell_type": "code",
   "execution_count": 21,
   "id": "052b1c39",
   "metadata": {},
   "outputs": [
    {
     "data": {
      "text/plain": [
       "Index(['PASSENGERID', 'SURVIVED', 'PCLASS', 'NAME', 'SEX', 'AGE', 'SIBSP',\n",
       "       'PARCH', 'TICKET', 'FARE', 'CABIN', 'EMBARKED', 'NEW_DECK',\n",
       "       'NEW_NAME_WORD_COUNT', 'NEW_NAME_DR', 'NEW_FAMILY_SIZE',\n",
       "       'NEW_FARE_PER_PERSON', 'NEW_TITLE', 'NEW_TICKET', 'NEW_AGE_PCLASS',\n",
       "       'NEW_IS_ALONE', 'NEW_AGE_CAT', 'NEW_SEX_CAT'],\n",
       "      dtype='object')"
      ]
     },
     "execution_count": 21,
     "metadata": {},
     "output_type": "execute_result"
    }
   ],
   "source": [
    "titanic_df.columns"
   ]
  },
  {
   "cell_type": "code",
   "execution_count": 22,
   "id": "29aa8c54",
   "metadata": {},
   "outputs": [],
   "source": [
    "titanic_df.drop(columns=[\"PASSENGERID\",\"NAME\",\"TICKET\",\"CABIN\"], axis=1, inplace=True)"
   ]
  },
  {
   "cell_type": "code",
   "execution_count": 23,
   "id": "09845cc2",
   "metadata": {},
   "outputs": [
    {
     "data": {
      "text/html": [
       "<div>\n",
       "<style scoped>\n",
       "    .dataframe tbody tr th:only-of-type {\n",
       "        vertical-align: middle;\n",
       "    }\n",
       "\n",
       "    .dataframe tbody tr th {\n",
       "        vertical-align: top;\n",
       "    }\n",
       "\n",
       "    .dataframe thead th {\n",
       "        text-align: right;\n",
       "    }\n",
       "</style>\n",
       "<table border=\"1\" class=\"dataframe\">\n",
       "  <thead>\n",
       "    <tr style=\"text-align: right;\">\n",
       "      <th></th>\n",
       "      <th>SURVIVED</th>\n",
       "      <th>PCLASS</th>\n",
       "      <th>SEX</th>\n",
       "      <th>AGE</th>\n",
       "      <th>SIBSP</th>\n",
       "      <th>PARCH</th>\n",
       "      <th>FARE</th>\n",
       "      <th>EMBARKED</th>\n",
       "      <th>NEW_DECK</th>\n",
       "      <th>NEW_NAME_WORD_COUNT</th>\n",
       "      <th>NEW_NAME_DR</th>\n",
       "      <th>NEW_FAMILY_SIZE</th>\n",
       "      <th>NEW_FARE_PER_PERSON</th>\n",
       "      <th>NEW_TITLE</th>\n",
       "      <th>NEW_TICKET</th>\n",
       "      <th>NEW_AGE_PCLASS</th>\n",
       "      <th>NEW_IS_ALONE</th>\n",
       "      <th>NEW_AGE_CAT</th>\n",
       "      <th>NEW_SEX_CAT</th>\n",
       "    </tr>\n",
       "  </thead>\n",
       "  <tbody>\n",
       "    <tr>\n",
       "      <th>0</th>\n",
       "      <td>0</td>\n",
       "      <td>3</td>\n",
       "      <td>male</td>\n",
       "      <td>34.500</td>\n",
       "      <td>0</td>\n",
       "      <td>0</td>\n",
       "      <td>7.829</td>\n",
       "      <td>Q</td>\n",
       "      <td>0</td>\n",
       "      <td>3</td>\n",
       "      <td>0</td>\n",
       "      <td>1</td>\n",
       "      <td>7.829</td>\n",
       "      <td>Mr</td>\n",
       "      <td>1</td>\n",
       "      <td>103.500</td>\n",
       "      <td>YES</td>\n",
       "      <td>Mature</td>\n",
       "      <td>Mature_Male</td>\n",
       "    </tr>\n",
       "    <tr>\n",
       "      <th>1</th>\n",
       "      <td>1</td>\n",
       "      <td>3</td>\n",
       "      <td>female</td>\n",
       "      <td>47.000</td>\n",
       "      <td>1</td>\n",
       "      <td>0</td>\n",
       "      <td>7.000</td>\n",
       "      <td>S</td>\n",
       "      <td>0</td>\n",
       "      <td>5</td>\n",
       "      <td>0</td>\n",
       "      <td>2</td>\n",
       "      <td>3.500</td>\n",
       "      <td>Mrs</td>\n",
       "      <td>1</td>\n",
       "      <td>141.000</td>\n",
       "      <td>NO</td>\n",
       "      <td>Mature</td>\n",
       "      <td>Mature_Female</td>\n",
       "    </tr>\n",
       "    <tr>\n",
       "      <th>2</th>\n",
       "      <td>0</td>\n",
       "      <td>2</td>\n",
       "      <td>male</td>\n",
       "      <td>62.000</td>\n",
       "      <td>0</td>\n",
       "      <td>0</td>\n",
       "      <td>9.688</td>\n",
       "      <td>Q</td>\n",
       "      <td>0</td>\n",
       "      <td>4</td>\n",
       "      <td>0</td>\n",
       "      <td>1</td>\n",
       "      <td>9.688</td>\n",
       "      <td>Mr</td>\n",
       "      <td>1</td>\n",
       "      <td>124.000</td>\n",
       "      <td>YES</td>\n",
       "      <td>Senior</td>\n",
       "      <td>Senior_Male</td>\n",
       "    </tr>\n",
       "  </tbody>\n",
       "</table>\n",
       "</div>"
      ],
      "text/plain": [
       "   SURVIVED  PCLASS     SEX    AGE  SIBSP  PARCH  FARE EMBARKED  NEW_DECK  \\\n",
       "0         0       3    male 34.500      0      0 7.829        Q         0   \n",
       "1         1       3  female 47.000      1      0 7.000        S         0   \n",
       "2         0       2    male 62.000      0      0 9.688        Q         0   \n",
       "\n",
       "   NEW_NAME_WORD_COUNT  NEW_NAME_DR  NEW_FAMILY_SIZE  NEW_FARE_PER_PERSON  \\\n",
       "0                    3            0                1                7.829   \n",
       "1                    5            0                2                3.500   \n",
       "2                    4            0                1                9.688   \n",
       "\n",
       "  NEW_TITLE  NEW_TICKET  NEW_AGE_PCLASS NEW_IS_ALONE NEW_AGE_CAT  \\\n",
       "0        Mr           1         103.500          YES      Mature   \n",
       "1       Mrs           1         141.000           NO      Mature   \n",
       "2        Mr           1         124.000          YES      Senior   \n",
       "\n",
       "     NEW_SEX_CAT  \n",
       "0    Mature_Male  \n",
       "1  Mature_Female  \n",
       "2    Senior_Male  "
      ]
     },
     "execution_count": 23,
     "metadata": {},
     "output_type": "execute_result"
    }
   ],
   "source": [
    "titanic_df.head(3)"
   ]
  },
  {
   "cell_type": "code",
   "execution_count": 25,
   "id": "d6387643",
   "metadata": {},
   "outputs": [],
   "source": [
    "#Outlier Detection:"
   ]
  },
  {
   "cell_type": "code",
   "execution_count": 26,
   "id": "f0a3f74e",
   "metadata": {},
   "outputs": [],
   "source": [
    "def outlier_thresholds(dataframe, col_name, q1 = 0.25, q3 = 0.75):\n",
    "    Q1 = dataframe[col_name].quantile(q1)\n",
    "    Q3 = dataframe[col_name].quantile(q3)\n",
    "    IQR = Q3 - Q1\n",
    "    low_limit = Q1 - 1.5 * IQR\n",
    "    up_limit = Q3 + 1.5 * IQR\n",
    "    \n",
    "    return low_limit, up_limit"
   ]
  },
  {
   "cell_type": "code",
   "execution_count": 27,
   "id": "6f2f8276",
   "metadata": {},
   "outputs": [],
   "source": [
    "cat_cols, num_cols, cat_but_car = grab_col_names(titanic_df)"
   ]
  },
  {
   "cell_type": "code",
   "execution_count": 28,
   "id": "5f8517bc",
   "metadata": {},
   "outputs": [
    {
     "name": "stdout",
     "output_type": "stream",
     "text": [
      "AGE : (-6.0, 66.0)\n",
      "SIBSP : (-1.5, 2.5)\n",
      "PARCH : (0.0, 0.0)\n",
      "FARE : (-27.5105, 66.9063)\n",
      "NEW_NAME_WORD_COUNT : (0.375, 7.375)\n",
      "NEW_FAMILY_SIZE : (-0.5, 3.5)\n",
      "NEW_FARE_PER_PERSON : (-19.926999999999996, 53.5562)\n",
      "NEW_AGE_PCLASS : (-12.5, 127.5)\n"
     ]
    }
   ],
   "source": [
    "for col in num_cols:\n",
    "    print(col,\":\",outlier_thresholds(titanic_df,col))"
   ]
  },
  {
   "cell_type": "code",
   "execution_count": 29,
   "id": "d5693363",
   "metadata": {},
   "outputs": [],
   "source": [
    "#Showing Outliers with Boxplot:"
   ]
  },
  {
   "cell_type": "code",
   "execution_count": 30,
   "id": "d758ac3e",
   "metadata": {},
   "outputs": [],
   "source": [
    "def check_outlier(dataframe, q1=0.25, q3=0.75):\n",
    "    for col_name in num_cols:\n",
    "        low_limit, up_limit = outlier_thresholds(dataframe, col_name, q1, q3)\n",
    "        if dataframe[(dataframe[col_name] < low_limit) | (dataframe[col_name] > up_limit)].any(axis=None):\n",
    "            sns.boxplot(x=dataframe[col_name])\n",
    "            plt.show()\n",
    "        else:\n",
    "            return False"
   ]
  },
  {
   "cell_type": "code",
   "execution_count": 31,
   "id": "49a0b8b5",
   "metadata": {},
   "outputs": [
    {
     "data": {
      "image/png": "[encoded data removed]",
      "text/plain": [
       "<Figure size 432x288 with 1 Axes>"
      ]
     },
     "metadata": {},
     "output_type": "display_data"
    },
    {
     "data": {
      "image/png": "[encoded data removed]",
      "text/plain": [
       "<Figure size 432x288 with 1 Axes>"
      ]
     },
     "metadata": {},
     "output_type": "display_data"
    },
    {
     "data": {
      "image/png": "[encoded data removed]",
      "text/plain": [
       "<Figure size 432x288 with 1 Axes>"
      ]
     },
     "metadata": {},
     "output_type": "display_data"
    },
    {
     "data": {
      "image/png": "[encoded data removed]",
      "text/plain": [
       "<Figure size 432x288 with 1 Axes>"
      ]
     },
     "metadata": {},
     "output_type": "display_data"
    },
    {
     "data": {
      "image/png": "[encoded data removed]",
      "text/plain": [
       "<Figure size 432x288 with 1 Axes>"
      ]
     },
     "metadata": {},
     "output_type": "display_data"
    },
    {
     "data": {
      "image/png": "[encoded data removed]",
      "text/plain": [
       "<Figure size 432x288 with 1 Axes>"
      ]
     },
     "metadata": {},
     "output_type": "display_data"
    },
    {
     "data": {
      "image/png": "[encoded data removed]",
      "text/plain": [
       "<Figure size 432x288 with 1 Axes>"
      ]
     },
     "metadata": {},
     "output_type": "display_data"
    },
    {
     "data": {
      "image/png": "[encoded data removed]",
      "text/plain": [
       "<Figure size 432x288 with 1 Axes>"
      ]
     },
     "metadata": {},
     "output_type": "display_data"
    }
   ],
   "source": [
    "check_outlier(titanic_df)"
   ]
  },
  {
   "cell_type": "code",
   "execution_count": 32,
   "id": "2223143a",
   "metadata": {},
   "outputs": [
    {
     "data": {
      "text/plain": [
       "False"
      ]
     },
     "execution_count": 32,
     "metadata": {},
     "output_type": "execute_result"
    }
   ],
   "source": [
    "check_outlier(titanic_df, q1=0.05, q3=0.95)"
   ]
  },
  {
   "cell_type": "code",
   "execution_count": null,
   "id": "1492482d",
   "metadata": {},
   "outputs": [],
   "source": []
  }
 ],
 "metadata": {
  "kernelspec": {
   "display_name": "Python 3",
   "language": "python",
   "name": "python3"
  },
  "language_info": {
   "codemirror_mode": {
    "name": "ipython",
    "version": 3
   },
   "file_extension": ".py",
   "mimetype": "text/x-python",
   "name": "python",
   "nbconvert_exporter": "python",
   "pygments_lexer": "ipython3",
   "version": "3.8.8"
  }
 },
 "nbformat": 4,
 "nbformat_minor": 5
}
